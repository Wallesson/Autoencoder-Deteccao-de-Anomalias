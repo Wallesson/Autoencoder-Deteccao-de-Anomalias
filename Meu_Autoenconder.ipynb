{
 "cells": [
  {
   "cell_type": "markdown",
   "id": "a100830c",
   "metadata": {},
   "source": [
    "## Pré-Processamento"
   ]
  },
  {
   "cell_type": "code",
   "execution_count": 1,
   "id": "fef7c696",
   "metadata": {},
   "outputs": [
    {
     "name": "stdout",
     "output_type": "stream",
     "text": [
      "Número de eventos:  34110\n",
      "Número de traces:  1391\n"
     ]
    }
   ],
   "source": [
    "import numpy as np\n",
    "import pandas as pd\n",
    "import sqlite3\n",
    "from datetime import datetime\n",
    "\n",
    "dados = sqlite3.connect('dados.db')\n",
    "cursor = dados.cursor()\n",
    "# Consulta teste realizada utilizando somente SQLite\n",
    "#cursor.execute(\"SELECT identificação, situacao, destino, transicao FROM log WHERE assunto='REGIME ESPECIAL DE TRIBUTAÇÃO - ALIMENTOS E CONGÊNERES' AND ano='2018' ORDER BY datahoracadastro AND identificação\")\n",
    "#print(cursor.fetchall())\n",
    "df = pd.read_sql_query(\"SELECT identificação, situacao, duracao, datahoracadastro FROM log WHERE assunto='REGIME ESPECIAL DE TRIBUTAÇÃO - ALIMENTOS E CONGÊNERES' ORDER BY datahoracadastro AND identificação\",dados)\n",
    "print('Número de eventos: ', len(df))\n",
    "print('Número de traces: ', len(df['identificação'].unique()))"
   ]
  },
  {
   "cell_type": "code",
   "execution_count": 2,
   "id": "a62f12da",
   "metadata": {},
   "outputs": [
    {
     "name": "stdout",
     "output_type": "stream",
     "text": [
      "<class 'pandas.core.frame.DataFrame'>\n",
      "RangeIndex: 34110 entries, 0 to 34109\n",
      "Data columns (total 3 columns):\n",
      " #   Column    Non-Null Count  Dtype \n",
      "---  ------    --------------  ----- \n",
      " 0   caseId    34110 non-null  object\n",
      " 1   situacao  34110 non-null  object\n",
      " 2   cadastro  34110 non-null  object\n",
      "dtypes: object(3)\n",
      "memory usage: 799.6+ KB\n"
     ]
    },
    {
     "data": {
      "text/plain": [
       "caseId      0\n",
       "situacao    0\n",
       "cadastro    0\n",
       "dtype: int64"
      ]
     },
     "execution_count": 2,
     "metadata": {},
     "output_type": "execute_result"
    }
   ],
   "source": [
    "df = df.rename(columns={'identificação':'caseId','datahoracadastro':'cadastro'}) \n",
    "df.shape\n",
    "df.info()\n",
    "df.describe()\n",
    "df.isnull().sum()"
   ]
  },
  {
   "cell_type": "code",
   "execution_count": 3,
   "id": "fdf0e539",
   "metadata": {},
   "outputs": [
    {
     "data": {
      "text/html": [
       "<div>\n",
       "<style scoped>\n",
       "    .dataframe tbody tr th:only-of-type {\n",
       "        vertical-align: middle;\n",
       "    }\n",
       "\n",
       "    .dataframe tbody tr th {\n",
       "        vertical-align: top;\n",
       "    }\n",
       "\n",
       "    .dataframe thead th {\n",
       "        text-align: right;\n",
       "    }\n",
       "</style>\n",
       "<table border=\"1\" class=\"dataframe\">\n",
       "  <thead>\n",
       "    <tr style=\"text-align: right;\">\n",
       "      <th></th>\n",
       "      <th>caseId</th>\n",
       "      <th>situacao</th>\n",
       "      <th>cadastro</th>\n",
       "    </tr>\n",
       "  </thead>\n",
       "  <tbody>\n",
       "    <tr>\n",
       "      <th>0</th>\n",
       "      <td>02060847/2015</td>\n",
       "      <td>PROTOCOLIZADO</td>\n",
       "      <td>2015-04-08 14:40:35</td>\n",
       "    </tr>\n",
       "    <tr>\n",
       "      <th>1</th>\n",
       "      <td>02060847/2015</td>\n",
       "      <td>DISTRIBUÍDO</td>\n",
       "      <td>2015-04-08 14:40:36</td>\n",
       "    </tr>\n",
       "    <tr>\n",
       "      <th>2</th>\n",
       "      <td>02060847/2015</td>\n",
       "      <td>DISTRIBUÍDO</td>\n",
       "      <td>2015-05-05 17:05:03</td>\n",
       "    </tr>\n",
       "    <tr>\n",
       "      <th>3</th>\n",
       "      <td>02060847/2015</td>\n",
       "      <td>DOCUMENTO ASSINADO PELO CONTRIBUINTE</td>\n",
       "      <td>2015-05-08 16:22:45</td>\n",
       "    </tr>\n",
       "    <tr>\n",
       "      <th>4</th>\n",
       "      <td>02060847/2015</td>\n",
       "      <td>DOCUMENTO ASSINADO PELO CONTRIBUINTE</td>\n",
       "      <td>2015-05-21 11:19:58</td>\n",
       "    </tr>\n",
       "    <tr>\n",
       "      <th>5</th>\n",
       "      <td>02060847/2015</td>\n",
       "      <td>DESPACHO ASSINADO</td>\n",
       "      <td>2015-05-21 16:28:16</td>\n",
       "    </tr>\n",
       "    <tr>\n",
       "      <th>6</th>\n",
       "      <td>02060847/2015</td>\n",
       "      <td>AGUARDANDO ASSINATURA DO ORIENTADOR</td>\n",
       "      <td>2015-05-21 16:40:08</td>\n",
       "    </tr>\n",
       "    <tr>\n",
       "      <th>7</th>\n",
       "      <td>02060847/2015</td>\n",
       "      <td>ANALISADO</td>\n",
       "      <td>2015-05-22 16:42:53</td>\n",
       "    </tr>\n",
       "  </tbody>\n",
       "</table>\n",
       "</div>"
      ],
      "text/plain": [
       "          caseId                              situacao            cadastro\n",
       "0  02060847/2015                         PROTOCOLIZADO 2015-04-08 14:40:35\n",
       "1  02060847/2015                           DISTRIBUÍDO 2015-04-08 14:40:36\n",
       "2  02060847/2015                           DISTRIBUÍDO 2015-05-05 17:05:03\n",
       "3  02060847/2015  DOCUMENTO ASSINADO PELO CONTRIBUINTE 2015-05-08 16:22:45\n",
       "4  02060847/2015  DOCUMENTO ASSINADO PELO CONTRIBUINTE 2015-05-21 11:19:58\n",
       "5  02060847/2015                     DESPACHO ASSINADO 2015-05-21 16:28:16\n",
       "6  02060847/2015   AGUARDANDO ASSINATURA DO ORIENTADOR 2015-05-21 16:40:08\n",
       "7  02060847/2015                             ANALISADO 2015-05-22 16:42:53"
      ]
     },
     "execution_count": 3,
     "metadata": {},
     "output_type": "execute_result"
    }
   ],
   "source": [
    "#Convertendo datahoracadastro em datetime64\n",
    "from datetime import datetime\n",
    "df['cadastro'] = pd.to_datetime(df['cadastro'], errors='coerce')\n",
    "'''\n",
    "#Convertendo identificação de object para numerico (float64)\n",
    "df['caseId'] = df['caseId'].str.replace('/','.') \n",
    "df['caseId'] = df['caseId'].apply(pd.to_numeric)\n",
    "i = 0\n",
    "for i in range(len(df.index)):\n",
    "    df['caseId'][i] = round(df['caseId'][i], 0)\n",
    "\n",
    "#Convertendo identificação de float64 para numerico (int64)\n",
    "df['caseId'] = df['caseId'].astype(np.int64)\n",
    "'''\n",
    "df.head(8)"
   ]
  },
  {
   "cell_type": "code",
   "execution_count": 4,
   "id": "c9ef70ee",
   "metadata": {},
   "outputs": [],
   "source": [
    "# REMOVER SEQUÊNCIAS DE ATIVIDADES IGUAIS DE UM MESMO CASE_ID. ATRIBIR ULTIMA DATAHORACADASTRO DA SEQUÊNCIA. \n",
    "duplicated = (df['situacao'] == df['situacao'].shift(1)) & (df['caseId'] == df['caseId'].shift(1))\n",
    "first_id = 0\n",
    "for id in df.index:\n",
    "  if duplicated[id]:\n",
    "    df.at[first_id,'cadastro'] = df.loc[id,'cadastro']\n",
    "  else:\n",
    "    first_id = id\n",
    "df = df[~duplicated]"
   ]
  },
  {
   "cell_type": "code",
   "execution_count": 5,
   "id": "0e73a3c4",
   "metadata": {},
   "outputs": [],
   "source": [
    "df= df.to_numpy()\n",
    "df = pd.DataFrame(df)\n",
    "df = df.rename(columns={0:'caseId',1:'situacao',2:'cadastro'}) "
   ]
  },
  {
   "cell_type": "code",
   "execution_count": 6,
   "id": "ab78e1d4",
   "metadata": {},
   "outputs": [
    {
     "data": {
      "text/html": [
       "<div>\n",
       "<style scoped>\n",
       "    .dataframe tbody tr th:only-of-type {\n",
       "        vertical-align: middle;\n",
       "    }\n",
       "\n",
       "    .dataframe tbody tr th {\n",
       "        vertical-align: top;\n",
       "    }\n",
       "\n",
       "    .dataframe thead th {\n",
       "        text-align: right;\n",
       "    }\n",
       "</style>\n",
       "<table border=\"1\" class=\"dataframe\">\n",
       "  <thead>\n",
       "    <tr style=\"text-align: right;\">\n",
       "      <th></th>\n",
       "      <th>caseId</th>\n",
       "      <th>situacao</th>\n",
       "      <th>cadastro</th>\n",
       "    </tr>\n",
       "  </thead>\n",
       "  <tbody>\n",
       "    <tr>\n",
       "      <th>0</th>\n",
       "      <td>02060847/2015</td>\n",
       "      <td>PROTOCOLIZADO</td>\n",
       "      <td>2015-04-08 14:40:35</td>\n",
       "    </tr>\n",
       "    <tr>\n",
       "      <th>1</th>\n",
       "      <td>02060847/2015</td>\n",
       "      <td>DISTRIBUÍDO</td>\n",
       "      <td>2015-05-05 17:05:03</td>\n",
       "    </tr>\n",
       "    <tr>\n",
       "      <th>2</th>\n",
       "      <td>02060847/2015</td>\n",
       "      <td>DOCUMENTO ASSINADO PELO CONTRIBUINTE</td>\n",
       "      <td>2015-05-21 11:19:58</td>\n",
       "    </tr>\n",
       "    <tr>\n",
       "      <th>3</th>\n",
       "      <td>02060847/2015</td>\n",
       "      <td>DESPACHO ASSINADO</td>\n",
       "      <td>2015-05-21 16:28:16</td>\n",
       "    </tr>\n",
       "    <tr>\n",
       "      <th>4</th>\n",
       "      <td>02060847/2015</td>\n",
       "      <td>AGUARDANDO ASSINATURA DO ORIENTADOR</td>\n",
       "      <td>2015-05-21 16:40:08</td>\n",
       "    </tr>\n",
       "  </tbody>\n",
       "</table>\n",
       "</div>"
      ],
      "text/plain": [
       "          caseId                              situacao            cadastro\n",
       "0  02060847/2015                         PROTOCOLIZADO 2015-04-08 14:40:35\n",
       "1  02060847/2015                           DISTRIBUÍDO 2015-05-05 17:05:03\n",
       "2  02060847/2015  DOCUMENTO ASSINADO PELO CONTRIBUINTE 2015-05-21 11:19:58\n",
       "3  02060847/2015                     DESPACHO ASSINADO 2015-05-21 16:28:16\n",
       "4  02060847/2015   AGUARDANDO ASSINATURA DO ORIENTADOR 2015-05-21 16:40:08"
      ]
     },
     "execution_count": 6,
     "metadata": {},
     "output_type": "execute_result"
    }
   ],
   "source": [
    "df.head()"
   ]
  },
  {
   "cell_type": "markdown",
   "id": "ad5f65d5",
   "metadata": {},
   "source": [
    "## Preparando Dados de Entrada "
   ]
  },
  {
   "cell_type": "code",
   "execution_count": 7,
   "id": "0f4eaa53",
   "metadata": {},
   "outputs": [],
   "source": [
    "#Filtrando Atividades\n",
    "atividades = df['situacao'].unique()"
   ]
  },
  {
   "cell_type": "code",
   "execution_count": 8,
   "id": "6b34428c",
   "metadata": {},
   "outputs": [],
   "source": [
    "#preenchimento das matrizes com 1 caso ocorra atividade no dataframe avaliado\n",
    "def trasforma(x,identificador):\n",
    "    groups = df.groupby(df.caseId)\n",
    "    grupo = groups.get_group(identificador)\n",
    "    linha = 0\n",
    "    j=0\n",
    "    for j in grupo['situacao']:\n",
    "        k = 0\n",
    "        while(k<len(atividades)):\n",
    "            if(j== atividades[k]):\n",
    "                x[linha][k]=1\n",
    "                linha+=1\n",
    "                k=len(atividades)\n",
    "            else:\n",
    "                k+= 1      \n",
    "    return x\n",
    "\n",
    "def cria_coluna_caseId(linhas, identificador):\n",
    "    case = []\n",
    "    for i in range(linhas):\n",
    "        case.append(identificador)\n",
    "    return case"
   ]
  },
  {
   "cell_type": "code",
   "execution_count": 9,
   "id": "6b8332b0",
   "metadata": {
    "scrolled": true
   },
   "outputs": [],
   "source": [
    "#Buscando o tamamjo do maior caso para definir as linhas de cada matriz\n",
    "i = 0\n",
    "groups = df.groupby(df.caseId)\n",
    "total = df['caseId'].unique()\n",
    "linhas = 0\n",
    "for i in range(df['caseId'].nunique()):\n",
    "    grupo = groups.get_group(total[i])\n",
    "    if(grupo.shape[0]> linhas):\n",
    "        linhas = grupo.shape[0]\n",
    "\n",
    "#O total de colunas é o total de atividades existentes\n",
    "colunas = np.size(atividades)\n",
    "\n",
    "#Criando a matriz \n",
    "matriz = np.zeros(shape=(linhas,colunas))\n",
    "\n",
    "\n",
    "j = 0\n",
    "identificadores = df['caseId'].unique()\n",
    "df_geral = []\n",
    "prox = 0\n",
    "for j in range(df['caseId'].nunique()):\n",
    "    \n",
    "    x = matriz\n",
    "    x = trasforma(x,identificadores[j])\n",
    "    \n",
    "    #y = pd.DataFrame(cria_coluna_caseId(linhas, identificadores[j]))\n",
    "    #x = np.append(y, x, axis = 1)\n",
    "    #x = pd.DataFrame(x)\n",
    "    #x.columns = atividades\n",
    "    #x.insert(0,'caseId',y)\n",
    "    df_geral.append(x)"
   ]
  },
  {
   "cell_type": "code",
   "execution_count": 10,
   "id": "66de5228",
   "metadata": {},
   "outputs": [],
   "source": [
    "import torch\n",
    "from torch import nn, optim\n",
    "import torch.nn.functional as F\n",
    "from torch.utils.data import DataLoader"
   ]
  },
  {
   "cell_type": "code",
   "execution_count": 11,
   "id": "5f878fb1",
   "metadata": {},
   "outputs": [
    {
     "name": "stdout",
     "output_type": "stream",
     "text": [
      "4130\n",
      "tensor([1., 0., 0.,  ..., 0., 0., 0.])\n"
     ]
    }
   ],
   "source": [
    "dados = df_geral\n",
    "dataset = []\n",
    "for k in range(len(df_geral)):\n",
    "    amostra = []\n",
    "    for i in dados[k]:\n",
    "        for j in i:\n",
    "            amostra.append(j)\n",
    "    dataset.append(amostra)\n",
    "dataset = torch.Tensor(dataset)\n",
    "print(len(dataset[1]))\n",
    "print(dataset[1])"
   ]
  },
  {
   "cell_type": "code",
   "execution_count": 12,
   "id": "b8d8675a",
   "metadata": {},
   "outputs": [],
   "source": [
    "data_train = dataset[:2000]\n",
    "train_loader = DataLoader(data_train, batch_size=20, shuffle=True)\n",
    "\n",
    "data_test = dataset\n",
    "test_loader = DataLoader(data_test, batch_size=20, shuffle=True)"
   ]
  },
  {
   "cell_type": "markdown",
   "id": "b2256f2f",
   "metadata": {},
   "source": [
    "## Construindo Autoencoder "
   ]
  },
  {
   "cell_type": "code",
   "execution_count": 13,
   "id": "e0338154",
   "metadata": {},
   "outputs": [],
   "source": [
    "# get_device() retorna o dispositivo GPU se tiver, se não retorna CPU\n",
    "def get_device():\n",
    "    if torch.cuda.is_available():\n",
    "        device = 'cuda:0'\n",
    "    else:\n",
    "        device = 'cpu'\n",
    "    return device"
   ]
  },
  {
   "cell_type": "code",
   "execution_count": 14,
   "id": "1df1275b",
   "metadata": {},
   "outputs": [
    {
     "name": "stdout",
     "output_type": "stream",
     "text": [
      "Autoencoder(\n",
      "  (enc1): Linear(in_features=4130, out_features=64, bias=True)\n",
      "  (enc2): Linear(in_features=64, out_features=32, bias=True)\n",
      "  (enc3): Linear(in_features=32, out_features=16, bias=True)\n",
      "  (dec1): Linear(in_features=16, out_features=32, bias=True)\n",
      "  (dec2): Linear(in_features=32, out_features=64, bias=True)\n",
      "  (dec3): Linear(in_features=64, out_features=4130, bias=True)\n",
      ")\n"
     ]
    }
   ],
   "source": [
    "tam = len(dataset[1])\n",
    "class Autoencoder(nn.Module):\n",
    "    def __init__(self):\n",
    "        super(Autoencoder, self).__init__()\n",
    "        # encoder\n",
    "        self.enc1 = nn.Linear(in_features=tam, out_features=64)\n",
    "        self.enc2 = nn.Linear(in_features=64, out_features=32)\n",
    "        self.enc3 = nn.Linear(in_features=32, out_features=16)\n",
    "        # decoder \n",
    "        self.dec1 = nn.Linear(in_features=16, out_features=32)\n",
    "        self.dec2 = nn.Linear(in_features=32, out_features=64)\n",
    "        self.dec3 = nn.Linear(in_features=64, out_features=tam)\n",
    "        \n",
    "    def forward(self, x):\n",
    "        x = F.relu(self.enc1(x))\n",
    "        x = F.relu(self.enc2(x))\n",
    "        x = F.relu(self.enc3(x))\n",
    "        \n",
    "        x = F.relu(self.dec1(x))\n",
    "        x = F.relu(self.dec2(x))\n",
    "        x = F.relu(self.dec3(x))\n",
    "        return x\n",
    "net = Autoencoder().to(get_device())\n",
    "print(net)"
   ]
  },
  {
   "cell_type": "code",
   "execution_count": 15,
   "id": "628c54ae",
   "metadata": {},
   "outputs": [],
   "source": [
    "#Definindo, a função de perda e o otimizador para nossa rede\n",
    "criterio = nn.MSELoss() #Erro quadradico médio\n",
    "otimizador = optim.Adam(net.parameters(), lr=0.001)\n",
    "\n",
    "#Função de treinamento do modelo\n",
    "def train(model, train_loader , criterio, otimizador):\n",
    "    model.train()\n",
    "    cumloss = 0.0\n",
    "    for x in train_loader:\n",
    "        x = x.to(get_device())\n",
    "        \n",
    "        pred = model(x)\n",
    "        loss = criterio(pred,x)\n",
    "        \n",
    "        loss.backward()\n",
    "        otimizador.step()\n",
    "    \n",
    "        cumloss+= loss.item()\n",
    "    return cumloss/len(train_loader)\n",
    "\n",
    "#Função de teste do modelo\n",
    "def test(model, test_loader , criterio, otimizador):\n",
    "    model.eval()\n",
    "    cumloss = 0.0\n",
    "    for x in test_loader:\n",
    "        x = x.to(get_device())\n",
    "        \n",
    "        pred = model(x)\n",
    "        loss = criterio(pred,x)\n",
    "        \n",
    "        cumloss+= loss.item()\n",
    "    return cumloss/len(train_loader)"
   ]
  },
  {
   "cell_type": "markdown",
   "id": "72c3bd23",
   "metadata": {},
   "source": [
    "## Testando modelo"
   ]
  },
  {
   "cell_type": "code",
   "execution_count": 16,
   "id": "3794eed4",
   "metadata": {},
   "outputs": [
    {
     "name": "stdout",
     "output_type": "stream",
     "text": [
      "Epoca: 0; Train Loss: 0.17640347353049687\n",
      "Epoca: 10; Train Loss: 0.03877656034060887\n",
      "Epoca: 20; Train Loss: 0.03776882051357201\n",
      "Epoca: 30; Train Loss: 0.034959935742829525\n",
      "Epoca: 40; Train Loss: 0.050170722337705746\n",
      "Epoca: 50; Train Loss: 0.03986935551677431\n",
      "Epoca: 60; Train Loss: 0.029165887539940222\n",
      "Epoca: 70; Train Loss: 0.0323862148714917\n",
      "Epoca: 80; Train Loss: 0.03159003880407129\n",
      "Epoca: 90; Train Loss: 0.03443556970783642\n",
      "Test Loss: 0.034020960330963135\n"
     ]
    }
   ],
   "source": [
    "epocas = 100\n",
    "for i in range(epocas):\n",
    "    train_loss = train(net, train_loader, criterio,otimizador)\n",
    "    if i % 10 == 0:\n",
    "        print(f\"Epoca: {i}; Train Loss: {train_loss}\")\n",
    "test_loss = test(net, test_loader, criterio,otimizador)\n",
    "print(f\"Test Loss: {test_loss}\")"
   ]
  },
  {
   "cell_type": "code",
   "execution_count": null,
   "id": "80e51252",
   "metadata": {},
   "outputs": [],
   "source": []
  }
 ],
 "metadata": {
  "kernelspec": {
   "display_name": "Python 3 (ipykernel)",
   "language": "python",
   "name": "python3"
  },
  "language_info": {
   "codemirror_mode": {
    "name": "ipython",
    "version": 3
   },
   "file_extension": ".py",
   "mimetype": "text/x-python",
   "name": "python",
   "nbconvert_exporter": "python",
   "pygments_lexer": "ipython3",
   "version": "3.9.7"
  }
 },
 "nbformat": 4,
 "nbformat_minor": 5
}
